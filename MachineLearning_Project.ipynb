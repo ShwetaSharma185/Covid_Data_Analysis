{
  "nbformat": 4,
  "nbformat_minor": 0,
  "metadata": {
    "colab": {
      "name": "MachineLearning-Project.ipynb",
      "provenance": [],
      "collapsed_sections": []
    },
    "kernelspec": {
      "name": "python3",
      "display_name": "Python 3"
    }
  },
  "cells": [
    {
      "cell_type": "markdown",
      "metadata": {
        "id": "LmRJQ3HayII0",
        "colab_type": "text"
      },
      "source": [
        "***Machine Learning Classification***"
      ]
    },
    {
      "cell_type": "code",
      "metadata": {
        "id": "P3K23U99yLEM",
        "colab_type": "code",
        "colab": {
          "base_uri": "https://localhost:8080/",
          "height": 496
        },
        "outputId": "d402f4ea-69f6-4c3b-ee64-b877d923c006"
      },
      "source": [
        "import pandas as pd\n",
        "import numpy as np\n",
        "import matplotlib.pyplot as plt\n",
        "import seaborn as sns\n",
        "%matplotlib inline\n",
        "titanic_data=pd.read_csv('titanic_train.csv')\n",
        "titanic_data.head()"
      ],
      "execution_count": 5,
      "outputs": [
        {
          "output_type": "execute_result",
          "data": {
            "text/html": [
              "<div>\n",
              "<style scoped>\n",
              "    .dataframe tbody tr th:only-of-type {\n",
              "        vertical-align: middle;\n",
              "    }\n",
              "\n",
              "    .dataframe tbody tr th {\n",
              "        vertical-align: top;\n",
              "    }\n",
              "\n",
              "    .dataframe thead th {\n",
              "        text-align: right;\n",
              "    }\n",
              "</style>\n",
              "<table border=\"1\" class=\"dataframe\">\n",
              "  <thead>\n",
              "    <tr style=\"text-align: right;\">\n",
              "      <th></th>\n",
              "      <th>PassengerId</th>\n",
              "      <th>Survived</th>\n",
              "      <th>Pclass</th>\n",
              "      <th>Name</th>\n",
              "      <th>Sex</th>\n",
              "      <th>Age</th>\n",
              "      <th>SibSp</th>\n",
              "      <th>Parch</th>\n",
              "      <th>Ticket</th>\n",
              "      <th>Fare</th>\n",
              "      <th>Cabin</th>\n",
              "      <th>Embarked</th>\n",
              "    </tr>\n",
              "  </thead>\n",
              "  <tbody>\n",
              "    <tr>\n",
              "      <th>0</th>\n",
              "      <td>1</td>\n",
              "      <td>0</td>\n",
              "      <td>3</td>\n",
              "      <td>Braund, Mr. Owen Harris</td>\n",
              "      <td>male</td>\n",
              "      <td>22.0</td>\n",
              "      <td>1</td>\n",
              "      <td>0</td>\n",
              "      <td>A/5 21171</td>\n",
              "      <td>7.2500</td>\n",
              "      <td>NaN</td>\n",
              "      <td>S</td>\n",
              "    </tr>\n",
              "    <tr>\n",
              "      <th>1</th>\n",
              "      <td>2</td>\n",
              "      <td>1</td>\n",
              "      <td>1</td>\n",
              "      <td>Cumings, Mrs. John Bradley (Florence Briggs Th...</td>\n",
              "      <td>female</td>\n",
              "      <td>38.0</td>\n",
              "      <td>1</td>\n",
              "      <td>0</td>\n",
              "      <td>PC 17599</td>\n",
              "      <td>71.2833</td>\n",
              "      <td>C85</td>\n",
              "      <td>C</td>\n",
              "    </tr>\n",
              "    <tr>\n",
              "      <th>2</th>\n",
              "      <td>3</td>\n",
              "      <td>1</td>\n",
              "      <td>3</td>\n",
              "      <td>Heikkinen, Miss. Laina</td>\n",
              "      <td>female</td>\n",
              "      <td>26.0</td>\n",
              "      <td>0</td>\n",
              "      <td>0</td>\n",
              "      <td>STON/O2. 3101282</td>\n",
              "      <td>7.9250</td>\n",
              "      <td>NaN</td>\n",
              "      <td>S</td>\n",
              "    </tr>\n",
              "    <tr>\n",
              "      <th>3</th>\n",
              "      <td>4</td>\n",
              "      <td>1</td>\n",
              "      <td>1</td>\n",
              "      <td>Futrelle, Mrs. Jacques Heath (Lily May Peel)</td>\n",
              "      <td>female</td>\n",
              "      <td>35.0</td>\n",
              "      <td>1</td>\n",
              "      <td>0</td>\n",
              "      <td>113803</td>\n",
              "      <td>53.1000</td>\n",
              "      <td>C123</td>\n",
              "      <td>S</td>\n",
              "    </tr>\n",
              "    <tr>\n",
              "      <th>4</th>\n",
              "      <td>5</td>\n",
              "      <td>0</td>\n",
              "      <td>3</td>\n",
              "      <td>Allen, Mr. William Henry</td>\n",
              "      <td>male</td>\n",
              "      <td>35.0</td>\n",
              "      <td>0</td>\n",
              "      <td>0</td>\n",
              "      <td>373450</td>\n",
              "      <td>8.0500</td>\n",
              "      <td>NaN</td>\n",
              "      <td>S</td>\n",
              "    </tr>\n",
              "  </tbody>\n",
              "</table>\n",
              "</div>"
            ],
            "text/plain": [
              "   PassengerId  Survived  Pclass  ...     Fare Cabin  Embarked\n",
              "0            1         0       3  ...   7.2500   NaN         S\n",
              "1            2         1       1  ...  71.2833   C85         C\n",
              "2            3         1       3  ...   7.9250   NaN         S\n",
              "3            4         1       1  ...  53.1000  C123         S\n",
              "4            5         0       3  ...   8.0500   NaN         S\n",
              "\n",
              "[5 rows x 12 columns]"
            ]
          },
          "metadata": {
            "tags": []
          },
          "execution_count": 5
        }
      ]
    },
    {
      "cell_type": "code",
      "metadata": {
        "id": "aLwO1VFdynHy",
        "colab_type": "code",
        "colab": {}
      },
      "source": [
        "titanic_data.drop(columns=['PassengerId','Name','Sex','Ticket','Fare','Cabin','Embarked'],inplace=True)"
      ],
      "execution_count": 6,
      "outputs": []
    },
    {
      "cell_type": "code",
      "metadata": {
        "id": "r4SmWPxNz2Ht",
        "colab_type": "code",
        "colab": {}
      },
      "source": [
        "titanic_data.fillna(titanic_data.mean(),inplace=True)"
      ],
      "execution_count": 7,
      "outputs": []
    },
    {
      "cell_type": "code",
      "metadata": {
        "id": "1Ye_C1t5z66l",
        "colab_type": "code",
        "colab": {}
      },
      "source": [
        "titanic_data.dropna(inplace=True)"
      ],
      "execution_count": 8,
      "outputs": []
    },
    {
      "cell_type": "code",
      "metadata": {
        "id": "sJCb72kT0KuD",
        "colab_type": "code",
        "colab": {
          "base_uri": "https://localhost:8080/",
          "height": 119
        },
        "outputId": "ed1098ae-7e02-4b54-b0e8-db36020e7ff9"
      },
      "source": [
        "titanic_data.isna().sum()"
      ],
      "execution_count": 9,
      "outputs": [
        {
          "output_type": "execute_result",
          "data": {
            "text/plain": [
              "Survived    0\n",
              "Pclass      0\n",
              "Age         0\n",
              "SibSp       0\n",
              "Parch       0\n",
              "dtype: int64"
            ]
          },
          "metadata": {
            "tags": []
          },
          "execution_count": 9
        }
      ]
    },
    {
      "cell_type": "code",
      "metadata": {
        "id": "5fyUwRdy0TDC",
        "colab_type": "code",
        "colab": {
          "base_uri": "https://localhost:8080/",
          "height": 204
        },
        "outputId": "545a6e7e-7018-4592-888b-c2fda7fc74a8"
      },
      "source": [
        "titanic_data.head()"
      ],
      "execution_count": 10,
      "outputs": [
        {
          "output_type": "execute_result",
          "data": {
            "text/html": [
              "<div>\n",
              "<style scoped>\n",
              "    .dataframe tbody tr th:only-of-type {\n",
              "        vertical-align: middle;\n",
              "    }\n",
              "\n",
              "    .dataframe tbody tr th {\n",
              "        vertical-align: top;\n",
              "    }\n",
              "\n",
              "    .dataframe thead th {\n",
              "        text-align: right;\n",
              "    }\n",
              "</style>\n",
              "<table border=\"1\" class=\"dataframe\">\n",
              "  <thead>\n",
              "    <tr style=\"text-align: right;\">\n",
              "      <th></th>\n",
              "      <th>Survived</th>\n",
              "      <th>Pclass</th>\n",
              "      <th>Age</th>\n",
              "      <th>SibSp</th>\n",
              "      <th>Parch</th>\n",
              "    </tr>\n",
              "  </thead>\n",
              "  <tbody>\n",
              "    <tr>\n",
              "      <th>0</th>\n",
              "      <td>0</td>\n",
              "      <td>3</td>\n",
              "      <td>22.0</td>\n",
              "      <td>1</td>\n",
              "      <td>0</td>\n",
              "    </tr>\n",
              "    <tr>\n",
              "      <th>1</th>\n",
              "      <td>1</td>\n",
              "      <td>1</td>\n",
              "      <td>38.0</td>\n",
              "      <td>1</td>\n",
              "      <td>0</td>\n",
              "    </tr>\n",
              "    <tr>\n",
              "      <th>2</th>\n",
              "      <td>1</td>\n",
              "      <td>3</td>\n",
              "      <td>26.0</td>\n",
              "      <td>0</td>\n",
              "      <td>0</td>\n",
              "    </tr>\n",
              "    <tr>\n",
              "      <th>3</th>\n",
              "      <td>1</td>\n",
              "      <td>1</td>\n",
              "      <td>35.0</td>\n",
              "      <td>1</td>\n",
              "      <td>0</td>\n",
              "    </tr>\n",
              "    <tr>\n",
              "      <th>4</th>\n",
              "      <td>0</td>\n",
              "      <td>3</td>\n",
              "      <td>35.0</td>\n",
              "      <td>0</td>\n",
              "      <td>0</td>\n",
              "    </tr>\n",
              "  </tbody>\n",
              "</table>\n",
              "</div>"
            ],
            "text/plain": [
              "   Survived  Pclass   Age  SibSp  Parch\n",
              "0         0       3  22.0      1      0\n",
              "1         1       1  38.0      1      0\n",
              "2         1       3  26.0      0      0\n",
              "3         1       1  35.0      1      0\n",
              "4         0       3  35.0      0      0"
            ]
          },
          "metadata": {
            "tags": []
          },
          "execution_count": 10
        }
      ]
    },
    {
      "cell_type": "code",
      "metadata": {
        "id": "eCNkS5Ux0XEq",
        "colab_type": "code",
        "colab": {}
      },
      "source": [
        "X=titanic_data.iloc[:,1:5].values\n",
        "y=titanic_data.iloc[:,0].values"
      ],
      "execution_count": 11,
      "outputs": []
    },
    {
      "cell_type": "code",
      "metadata": {
        "id": "pQB7ZTxy129t",
        "colab_type": "code",
        "colab": {
          "base_uri": "https://localhost:8080/",
          "height": 34
        },
        "outputId": "f99fc77f-feb7-4d25-d16f-8fcf8c2a663d"
      },
      "source": [
        "print('INPUT to machine to get X and Y train and test values')\n",
        "from sklearn.model_selection import train_test_split\n",
        "X_train, X_test, Y_train, Y_test=train_test_split(X,y,test_size=0.25,random_state=0)"
      ],
      "execution_count": 12,
      "outputs": [
        {
          "output_type": "stream",
          "text": [
            "INPUT to machine to get X and Y train and test values\n"
          ],
          "name": "stdout"
        }
      ]
    },
    {
      "cell_type": "code",
      "metadata": {
        "id": "62CRfaDp14TN",
        "colab_type": "code",
        "colab": {
          "base_uri": "https://localhost:8080/",
          "height": 34
        },
        "outputId": "d6ae9c56-33d7-4f9c-9287-8daf05ea4323"
      },
      "source": [
        "print('We will normalize the data as X is a continous variable using StandardScaler()')\n",
        "from sklearn.preprocessing import StandardScaler\n",
        "sc=StandardScaler()\n",
        "X_train=sc.fit_transform(X_train)\n",
        "X_test=sc.fit_transform(X_test)"
      ],
      "execution_count": 13,
      "outputs": [
        {
          "output_type": "stream",
          "text": [
            "We will normalize the data as X is a continous variable using StandardScaler()\n"
          ],
          "name": "stdout"
        }
      ]
    },
    {
      "cell_type": "markdown",
      "metadata": {
        "id": "G8uzzqdY3Hsh",
        "colab_type": "text"
      },
      "source": [
        "Welcome, to the section on **‘Logistic Regression’**. Another technique for machine learning from the field of statistics. In the linear regression model used to make predictions for continuous variables (numeric variable). Logistic regression is a classification model. It will help you make predictions in cases where the output is a categorical variable."
      ]
    },
    {
      "cell_type": "code",
      "metadata": {
        "id": "5bHBCGqQ2ygw",
        "colab_type": "code",
        "colab": {
          "base_uri": "https://localhost:8080/",
          "height": 275
        },
        "outputId": "21d66575-f00c-493e-efbe-66aa0cd6d9a4"
      },
      "source": [
        "from sklearn.linear_model import LogisticRegression\n",
        "logistic_classifier=LogisticRegression(random_state=0)\n",
        "logistic_classifier.fit(X_train,Y_train)\n",
        "print('y_pred of LogisticRegression')\n",
        "y_LR_pred=logistic_classifier.predict(X_test)\n",
        "print('y_pred for LogisticRegression :',y_LR_pred)\n",
        "from sklearn.metrics import confusion_matrix\n",
        "cm_LR=confusion_matrix(Y_test,y_LR_pred)\n",
        "print('CM for LogisticRegression :',cm_LR)\n",
        "from sklearn.metrics import accuracy_score\n",
        "accuracy_LR=accuracy_score(Y_test,y_LR_pred)\n",
        "print('Accuracy for LogisticRegression :',accuracy_LR)\n",
        "from sklearn.metrics import jaccard_similarity_score\n",
        "JSS_LR=jaccard_similarity_score(Y_test,y_LR_pred)\n",
        "print('JSS for LogisticRegression :',JSS_LR)\n",
        "classification_accuracy_map={\"LogisticRegression\":round(accuracy_LR*100)}"
      ],
      "execution_count": 14,
      "outputs": [
        {
          "output_type": "stream",
          "text": [
            "y_pred of LogisticRegression\n",
            "y_pred for LogisticRegression : [0 0 0 1 0 1 1 1 1 0 0 0 0 1 1 0 0 1 0 1 1 1 0 1 0 1 0 0 1 0 0 0 0 1 0 1 0\n",
            " 0 0 0 0 0 0 0 1 0 0 1 0 1 1 1 1 0 1 0 0 0 0 0 0 0 0 1 0 0 1 1 1 1 0 0 1 0\n",
            " 0 0 1 1 0 0 0 0 0 0 0 1 1 0 0 1 1 0 1 1 0 0 1 0 0 1 0 0 0 0 0 0 0 0 0 0 0\n",
            " 1 0 0 1 0 0 1 0 0 0 0 0 1 0 0 0 0 0 0 0 0 0 0 0 0 0 0 0 1 0 1 0 0 0 0 0 0\n",
            " 1 0 0 0 0 0 1 0 0 0 0 0 0 0 0 0 0 0 0 0 0 0 0 1 0 0 0 0 1 0 0 0 0 0 0 0 1\n",
            " 0 0 0 0 1 0 1 0 0 0 0 0 0 1 0 0 0 0 0 0 0 0 0 0 0 0 0 0 0 0 0 0 1 0 1 0 1\n",
            " 0]\n",
            "CM for LogisticRegression : [[124  15]\n",
            " [ 43  41]]\n",
            "Accuracy for LogisticRegression : 0.7399103139013453\n",
            "JSS for LogisticRegression : 0.7399103139013453\n"
          ],
          "name": "stdout"
        },
        {
          "output_type": "stream",
          "text": [
            "/usr/local/lib/python3.6/dist-packages/sklearn/metrics/_classification.py:664: FutureWarning: jaccard_similarity_score has been deprecated and replaced with jaccard_score. It will be removed in version 0.23. This implementation has surprising behavior for binary and multiclass classification tasks.\n",
            "  FutureWarning)\n"
          ],
          "name": "stderr"
        }
      ]
    },
    {
      "cell_type": "markdown",
      "metadata": {
        "id": "LxaS0nT23F5q",
        "colab_type": "text"
      },
      "source": [
        "**Decision Tree** algorithm is one of the simplest yet powerful Supervised Machine Learning algorithms. Decision Tree algorithm can be used to solve both regression and classification problems in Machine Learning. That is why it is also known as CART or Classification and Regression Trees."
      ]
    },
    {
      "cell_type": "code",
      "metadata": {
        "id": "yl95fJNN4dVL",
        "colab_type": "code",
        "colab": {
          "base_uri": "https://localhost:8080/",
          "height": 173
        },
        "outputId": "3da97283-f7af-4ca9-8fd9-a7d357544ff7"
      },
      "source": [
        "print('DECISION TREE CLASSIFICATION')\n",
        "from sklearn.tree import DecisionTreeClassifier\n",
        "decision_tree_classifier=DecisionTreeClassifier(criterion='entropy')\n",
        "decision_tree_classifier.fit(X_train,Y_train)\n",
        "print('y_pred of DecisionTreeClassifier')\n",
        "y_DT_pred=decision_tree_classifier.predict(X_test)\n",
        "from sklearn.metrics import confusion_matrix\n",
        "cm_DT=confusion_matrix(Y_test,y_DT_pred)\n",
        "print('CM for DecisionTreeClassifier :',cm_DT)\n",
        "from sklearn.metrics import accuracy_score\n",
        "accuracy_DT=accuracy_score(Y_test,y_DT_pred)\n",
        "print('Accuracy for DecisionTreeClassifier :',accuracy_DT)\n",
        "from sklearn.metrics import jaccard_similarity_score\n",
        "JSS_DT=jaccard_similarity_score(Y_test,y_DT_pred)\n",
        "print('JSS for DecisionTreeClassifier :',JSS_DT)\n",
        "classification_accuracy_map[\"DecisionTreeClassifier\"]=round(accuracy_DT*100)"
      ],
      "execution_count": 15,
      "outputs": [
        {
          "output_type": "stream",
          "text": [
            "DECISION TREE CLASSIFICATION\n",
            "y_pred of DecisionTreeClassifier\n",
            "CM for DecisionTreeClassifier : [[120  19]\n",
            " [ 49  35]]\n",
            "Accuracy for DecisionTreeClassifier : 0.695067264573991\n",
            "JSS for DecisionTreeClassifier : 0.695067264573991\n"
          ],
          "name": "stdout"
        },
        {
          "output_type": "stream",
          "text": [
            "/usr/local/lib/python3.6/dist-packages/sklearn/metrics/_classification.py:664: FutureWarning: jaccard_similarity_score has been deprecated and replaced with jaccard_score. It will be removed in version 0.23. This implementation has surprising behavior for binary and multiclass classification tasks.\n",
            "  FutureWarning)\n"
          ],
          "name": "stderr"
        }
      ]
    },
    {
      "cell_type": "markdown",
      "metadata": {
        "id": "Jyk-0q1z4zmS",
        "colab_type": "text"
      },
      "source": [
        "**Random Forest** in Machine Learning is a method for classification (classifying an experiment to a category), or regression (predicting the outcome of an experiment), based on the training data (knowledge of previous experiments). Random forest handles non-linearity by exploiting correlation between the features of data-point/experiment."
      ]
    },
    {
      "cell_type": "code",
      "metadata": {
        "id": "rAbro8rq4hO3",
        "colab_type": "code",
        "colab": {
          "base_uri": "https://localhost:8080/",
          "height": 173
        },
        "outputId": "037bb369-dc16-4808-f636-89e51572e004"
      },
      "source": [
        "print('RANDOM FOREST CLASSIFICATION')\n",
        "from sklearn.ensemble import RandomForestClassifier\n",
        "random_forest_classifier=RandomForestClassifier(n_estimators=10,random_state=0)\n",
        "random_forest_classifier.fit(X_train,Y_train)\n",
        "print('y_pred of RandomForestClassifier')\n",
        "y_RF_pred=random_forest_classifier.predict(X_test)\n",
        "from sklearn.metrics import confusion_matrix\n",
        "cm_RF=confusion_matrix(Y_test,y_RF_pred)\n",
        "print('CM for RandomForestClassifier :',cm_RF)\n",
        "from sklearn.metrics import accuracy_score\n",
        "accuracy_RF=accuracy_score(Y_test,y_RF_pred)\n",
        "print('Accuracy for RandomForestClassifier :',accuracy_RF)\n",
        "from sklearn.metrics import jaccard_similarity_score\n",
        "JSS_RF=jaccard_similarity_score(Y_test,y_RF_pred)\n",
        "print('JSS for RandomForestClassifier :',JSS_RF)\n",
        "classification_accuracy_map['RandomForestClassifier']=round(accuracy_RF*100)"
      ],
      "execution_count": 16,
      "outputs": [
        {
          "output_type": "stream",
          "text": [
            "RANDOM FOREST CLASSIFICATION\n",
            "y_pred of RandomForestClassifier\n",
            "CM for RandomForestClassifier : [[113  26]\n",
            " [ 43  41]]\n",
            "Accuracy for RandomForestClassifier : 0.6905829596412556\n",
            "JSS for RandomForestClassifier : 0.6905829596412556\n"
          ],
          "name": "stdout"
        },
        {
          "output_type": "stream",
          "text": [
            "/usr/local/lib/python3.6/dist-packages/sklearn/metrics/_classification.py:664: FutureWarning: jaccard_similarity_score has been deprecated and replaced with jaccard_score. It will be removed in version 0.23. This implementation has surprising behavior for binary and multiclass classification tasks.\n",
            "  FutureWarning)\n"
          ],
          "name": "stderr"
        }
      ]
    },
    {
      "cell_type": "markdown",
      "metadata": {
        "id": "WZTMm0QP5koF",
        "colab_type": "text"
      },
      "source": [
        "**Support vector machines (SVMs)** are powerful yet flexible supervised machine learning algorithms which are used both for classification and regression."
      ]
    },
    {
      "cell_type": "code",
      "metadata": {
        "id": "Afg7rOMD482J",
        "colab_type": "code",
        "colab": {
          "base_uri": "https://localhost:8080/",
          "height": 173
        },
        "outputId": "8afaefa5-abdb-4b6c-de74-7f35aab2f849"
      },
      "source": [
        "print('SUPPORT VECTOR CLASSIFICATION')\n",
        "from sklearn.svm import SVC\n",
        "svc_classifier=SVC()\n",
        "svc_classifier.fit(X_train,Y_train)\n",
        "print('y_pred of SupportVectorClassifier')\n",
        "y_SVC_pred=svc_classifier.predict(X_test)\n",
        "from sklearn.metrics import confusion_matrix\n",
        "cm_SVC=confusion_matrix(Y_test,y_SVC_pred)\n",
        "print('CM for SupportVectorClassifier :',cm_SVC)\n",
        "from sklearn.metrics import accuracy_score\n",
        "accuracy_SVC=accuracy_score(Y_test,y_SVC_pred)\n",
        "print('Accuracy for SupportVectorClassifier :',accuracy_SVC)\n",
        "from sklearn.metrics import jaccard_similarity_score\n",
        "JSS_SVC=jaccard_similarity_score(Y_test,y_SVC_pred)\n",
        "print('JSS for SupportVectorClassifier :',JSS_SVC)\n",
        "classification_accuracy_map['SupportVectorClassifier']=round(accuracy_SVC*100)"
      ],
      "execution_count": 17,
      "outputs": [
        {
          "output_type": "stream",
          "text": [
            "SUPPORT VECTOR CLASSIFICATION\n",
            "y_pred of SupportVectorClassifier\n",
            "CM for SupportVectorClassifier : [[122  17]\n",
            " [ 36  48]]\n",
            "Accuracy for SupportVectorClassifier : 0.7623318385650224\n",
            "JSS for SupportVectorClassifier : 0.7623318385650224\n"
          ],
          "name": "stdout"
        },
        {
          "output_type": "stream",
          "text": [
            "/usr/local/lib/python3.6/dist-packages/sklearn/metrics/_classification.py:664: FutureWarning: jaccard_similarity_score has been deprecated and replaced with jaccard_score. It will be removed in version 0.23. This implementation has surprising behavior for binary and multiclass classification tasks.\n",
            "  FutureWarning)\n"
          ],
          "name": "stderr"
        }
      ]
    },
    {
      "cell_type": "markdown",
      "metadata": {
        "id": "Qx-Eot7A6Bu0",
        "colab_type": "text"
      },
      "source": [
        "**K-Nearest Neighbors (KNN)** is one of the simplest algorithms used in Machine Learning for regression and classification problem. KNN algorithms use data and classify new data points based on similarity measures (e.g. distance function). Classification is done by a majority vote to its neighbors."
      ]
    },
    {
      "cell_type": "code",
      "metadata": {
        "id": "32iDDYea5w0b",
        "colab_type": "code",
        "colab": {
          "base_uri": "https://localhost:8080/",
          "height": 173
        },
        "outputId": "438a2e75-5061-4383-85ba-12c7ed4a454b"
      },
      "source": [
        "print('KNN K NEAREST NEIGHBOUR CLASSIFICATION')\n",
        "from sklearn.neighbors import KNeighborsClassifier\n",
        "knn_classifier=KNeighborsClassifier(n_neighbors=5)\n",
        "knn_classifier.fit(X_train,Y_train)\n",
        "print('y_pred of KNN')\n",
        "y_KNN_pred=knn_classifier.predict(X_test)\n",
        "from sklearn.metrics import confusion_matrix\n",
        "cm_KNN=confusion_matrix(Y_test,y_KNN_pred)\n",
        "print('CM for KNN :',cm_KNN)\n",
        "from sklearn.metrics import accuracy_score\n",
        "accuracy_KNN=accuracy_score(Y_test,y_KNN_pred)\n",
        "print('Accuracy for K Nearest Neighbor Classifier :',accuracy_KNN)\n",
        "from sklearn.metrics import jaccard_similarity_score\n",
        "JSS_KNN=jaccard_similarity_score(Y_test,y_KNN_pred)\n",
        "print('JSS for KNN :',JSS_KNN)\n",
        "classification_accuracy_map['K Nearest Neighbor Classifier']=round(accuracy_KNN*100)"
      ],
      "execution_count": 18,
      "outputs": [
        {
          "output_type": "stream",
          "text": [
            "KNN K NEAREST NEIGHBOUR CLASSIFICATION\n",
            "y_pred of KNN\n",
            "CM for KNN : [[117  22]\n",
            " [ 36  48]]\n",
            "Accuracy for K Nearest Neighbor Classifier : 0.7399103139013453\n",
            "JSS for KNN : 0.7399103139013453\n"
          ],
          "name": "stdout"
        },
        {
          "output_type": "stream",
          "text": [
            "/usr/local/lib/python3.6/dist-packages/sklearn/metrics/_classification.py:664: FutureWarning: jaccard_similarity_score has been deprecated and replaced with jaccard_score. It will be removed in version 0.23. This implementation has surprising behavior for binary and multiclass classification tasks.\n",
            "  FutureWarning)\n"
          ],
          "name": "stderr"
        }
      ]
    },
    {
      "cell_type": "markdown",
      "metadata": {
        "id": "KPlKrpnS7SiZ",
        "colab_type": "text"
      },
      "source": [
        "**Gaussian Naive Bayes** is one classifier model. Beside the Gaussian Naive Bayes there are also existing the Multinomial naive Bayes and the Bernoulli naive Bayes. I picked the Gaussian Naive Bayes because it is the simplest and the most popular one."
      ]
    },
    {
      "cell_type": "code",
      "metadata": {
        "id": "qWCBloO76R0x",
        "colab_type": "code",
        "colab": {
          "base_uri": "https://localhost:8080/",
          "height": 173
        },
        "outputId": "fcf35f1c-899b-4701-ce7b-f1c456b8887d"
      },
      "source": [
        "print('GaussianNB CLASSIFICATION')\n",
        "from sklearn.naive_bayes import GaussianNB\n",
        "gaussianNB_classifier=GaussianNB()\n",
        "gaussianNB_classifier.fit(X_train,Y_train)\n",
        "print('y_pred of GaussianNB')\n",
        "y_GNB_pred=gaussianNB_classifier.predict(X_test)\n",
        "from sklearn.metrics import confusion_matrix\n",
        "cm_GNB=confusion_matrix(Y_test,y_GNB_pred)\n",
        "print('CM for GNB :',cm_GNB)\n",
        "from sklearn.metrics import accuracy_score\n",
        "accuracy_GNB=accuracy_score(Y_test,y_GNB_pred)\n",
        "print('Accuracy for Gaussian Naive Bayes Classifier :',accuracy_GNB)\n",
        "from sklearn.metrics import jaccard_similarity_score\n",
        "JSS_GNB=jaccard_similarity_score(Y_test,y_GNB_pred)\n",
        "print('JSS for KNN :',JSS_GNB)\n",
        "classification_accuracy_map['Gaussian Naive Bayes Classifier']=round(accuracy_GNB*100)"
      ],
      "execution_count": 19,
      "outputs": [
        {
          "output_type": "stream",
          "text": [
            "GaussianNB CLASSIFICATION\n",
            "y_pred of GaussianNB\n",
            "CM for GNB : [[113  26]\n",
            " [ 38  46]]\n",
            "Accuracy for Gaussian Naive Bayes Classifier : 0.7130044843049327\n",
            "JSS for KNN : 0.7130044843049327\n"
          ],
          "name": "stdout"
        },
        {
          "output_type": "stream",
          "text": [
            "/usr/local/lib/python3.6/dist-packages/sklearn/metrics/_classification.py:664: FutureWarning: jaccard_similarity_score has been deprecated and replaced with jaccard_score. It will be removed in version 0.23. This implementation has surprising behavior for binary and multiclass classification tasks.\n",
            "  FutureWarning)\n"
          ],
          "name": "stderr"
        }
      ]
    },
    {
      "cell_type": "markdown",
      "metadata": {
        "id": "GnPVmA3c7_cF",
        "colab_type": "text"
      },
      "source": [
        "**Gradient Boosting** is another technique for performing supervised machine learning tasks, like classification and regression. The implementations of this technique can have different names, most commonly you encounter Gradient Boosting machines (abbreviated GBM) and XGBoost. "
      ]
    },
    {
      "cell_type": "code",
      "metadata": {
        "id": "0oT_JLMc7-l8",
        "colab_type": "code",
        "colab": {
          "base_uri": "https://localhost:8080/",
          "height": 173
        },
        "outputId": "13e0d6c0-0062-46ba-85ad-ef0007609592"
      },
      "source": [
        "print('Xtra Gradient Boosting CLASSIFICATION')\n",
        "from xgboost import XGBClassifier\n",
        "xgb_classifier=XGBClassifier()\n",
        "xgb_classifier.fit(X_train,Y_train)\n",
        "print('y_pred of XGB')\n",
        "y_XGB_pred=xgb_classifier.predict(X_test)\n",
        "from sklearn.metrics import confusion_matrix\n",
        "cm_XGB=confusion_matrix(Y_test,y_XGB_pred)\n",
        "print('CM for XGB :',cm_GNB)\n",
        "from sklearn.metrics import accuracy_score\n",
        "accuracy_XGB=accuracy_score(Y_test,y_XGB_pred)\n",
        "print('Accuracy for Extra Gradient Boosting Classifier :',accuracy_XGB)\n",
        "from sklearn.metrics import jaccard_similarity_score\n",
        "JSS_XGB=jaccard_similarity_score(Y_test,y_XGB_pred)\n",
        "print('JSS for XGB :',JSS_XGB)\n",
        "classification_accuracy_map['Extra Gradient Boosting Classifier']=round(accuracy_XGB*100)"
      ],
      "execution_count": 20,
      "outputs": [
        {
          "output_type": "stream",
          "text": [
            "Xtra Gradient Boosting CLASSIFICATION\n",
            "y_pred of XGB\n",
            "CM for XGB : [[113  26]\n",
            " [ 38  46]]\n",
            "Accuracy for Extra Gradient Boosting Classifier : 0.7533632286995515\n",
            "JSS for XGB : 0.7533632286995515\n"
          ],
          "name": "stdout"
        },
        {
          "output_type": "stream",
          "text": [
            "/usr/local/lib/python3.6/dist-packages/sklearn/metrics/_classification.py:664: FutureWarning: jaccard_similarity_score has been deprecated and replaced with jaccard_score. It will be removed in version 0.23. This implementation has surprising behavior for binary and multiclass classification tasks.\n",
            "  FutureWarning)\n"
          ],
          "name": "stderr"
        }
      ]
    },
    {
      "cell_type": "markdown",
      "metadata": {
        "id": "Vc0TNmVp8kys",
        "colab_type": "text"
      },
      "source": [
        "**SUMMARY FOR ALL CLASSIFICATION**\n",
        "\n",
        "LogisticRegression   74.0\n",
        "\n",
        "DecisionTreeClassifier   70.0\n",
        "\n",
        "RandomForestClassifier   69.0\n",
        "\n",
        "SupportVectorClassifier   76.0\n",
        "\n",
        "K Nearest Neighbor Classifier   74.0\n",
        "\n",
        "Gaussian Naive Bayes Classifier   71.0\n",
        "\n",
        "Extra Gradient Boosting Classifier   75.0\n",
        "\n",
        "\n"
      ]
    }
  ]
}