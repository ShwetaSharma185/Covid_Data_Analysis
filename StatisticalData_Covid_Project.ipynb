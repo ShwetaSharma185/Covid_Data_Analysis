{
  "nbformat": 4,
  "nbformat_minor": 0,
  "metadata": {
    "colab": {
      "name": "StatisticalData-Covid-Project.ipynb",
      "provenance": [],
      "collapsed_sections": []
    },
    "kernelspec": {
      "name": "python3",
      "display_name": "Python 3"
    }
  },
  "cells": [
    {
      "cell_type": "markdown",
      "metadata": {
        "id": "xI3g8ZOv9Fbv",
        "colab_type": "text"
      },
      "source": [
        "**Pandas** is an open-source, BSD-licensed Python library providing high-performance, easy-to-use data structures and data analysis tools for the Python programming language. Python with Pandas is used in a wide range of fields including academic and commercial domains including finance, economics, Statistics, analytics, etc."
      ]
    },
    {
      "cell_type": "code",
      "metadata": {
        "id": "egeKmzVG9OhN",
        "colab_type": "code",
        "colab": {
          "base_uri": "https://localhost:8080/",
          "height": 581
        },
        "outputId": "e0d4f071-3aeb-4bab-c1c3-8a15a2280b38"
      },
      "source": [
        "# Lets see how we can access the data set and csv files using this powerful library\n",
        "import pandas as pd\n",
        "import numpy as np\n",
        "import matplotlib.pyplot as plt\n",
        "import seaborn as sns\n",
        "%matplotlib inline\n",
        "patient_data=pd.read_csv('patients_data.csv')\n",
        "patient_data.head()\n"
      ],
      "execution_count": 1,
      "outputs": [
        {
          "output_type": "stream",
          "text": [
            "/usr/local/lib/python3.6/dist-packages/statsmodels/tools/_testing.py:19: FutureWarning: pandas.util.testing is deprecated. Use the functions in the public API at pandas.testing instead.\n",
            "  import pandas.util.testing as tm\n",
            "/usr/local/lib/python3.6/dist-packages/IPython/core/interactiveshell.py:2718: DtypeWarning: Columns (4,13,14,15,19) have mixed types.Specify dtype option on import or set low_memory=False.\n",
            "  interactivity=interactivity, compiler=compiler, result=result)\n"
          ],
          "name": "stderr"
        },
        {
          "output_type": "execute_result",
          "data": {
            "text/html": [
              "<div>\n",
              "<style scoped>\n",
              "    .dataframe tbody tr th:only-of-type {\n",
              "        vertical-align: middle;\n",
              "    }\n",
              "\n",
              "    .dataframe tbody tr th {\n",
              "        vertical-align: top;\n",
              "    }\n",
              "\n",
              "    .dataframe thead th {\n",
              "        text-align: right;\n",
              "    }\n",
              "</style>\n",
              "<table border=\"1\" class=\"dataframe\">\n",
              "  <thead>\n",
              "    <tr style=\"text-align: right;\">\n",
              "      <th></th>\n",
              "      <th>Patient Number</th>\n",
              "      <th>State Patient Number</th>\n",
              "      <th>Date Announced</th>\n",
              "      <th>Estimated Onset Date</th>\n",
              "      <th>Age Bracket</th>\n",
              "      <th>Gender</th>\n",
              "      <th>Detected City</th>\n",
              "      <th>Detected District</th>\n",
              "      <th>Detected State</th>\n",
              "      <th>State code</th>\n",
              "      <th>Current Status</th>\n",
              "      <th>Notes</th>\n",
              "      <th>Contracted from which Patient (Suspected)</th>\n",
              "      <th>Nationality</th>\n",
              "      <th>Type of transmission</th>\n",
              "      <th>Status Change Date</th>\n",
              "      <th>Source_1</th>\n",
              "      <th>Source_2</th>\n",
              "      <th>Source_3</th>\n",
              "      <th>Backup Notes</th>\n",
              "      <th>Num Cases</th>\n",
              "      <th>Entry_ID</th>\n",
              "    </tr>\n",
              "  </thead>\n",
              "  <tbody>\n",
              "    <tr>\n",
              "      <th>0</th>\n",
              "      <td>1.0</td>\n",
              "      <td>KL-TS-P1</td>\n",
              "      <td>30/01/2020</td>\n",
              "      <td>NaN</td>\n",
              "      <td>20</td>\n",
              "      <td>F</td>\n",
              "      <td>Thrissur</td>\n",
              "      <td>Thrissur</td>\n",
              "      <td>Kerala</td>\n",
              "      <td>KL</td>\n",
              "      <td>Recovered</td>\n",
              "      <td>Travelled from Wuhan</td>\n",
              "      <td>NaN</td>\n",
              "      <td>India</td>\n",
              "      <td>Imported</td>\n",
              "      <td>14/02/2020</td>\n",
              "      <td>https://twitter.com/vijayanpinarayi/status/122...</td>\n",
              "      <td>https://weather.com/en-IN/india/news/news/2020...</td>\n",
              "      <td>NaN</td>\n",
              "      <td>Student from Wuhan</td>\n",
              "      <td>1.0</td>\n",
              "      <td>NaN</td>\n",
              "    </tr>\n",
              "    <tr>\n",
              "      <th>1</th>\n",
              "      <td>2.0</td>\n",
              "      <td>KL-AL-P1</td>\n",
              "      <td>02/02/2020</td>\n",
              "      <td>NaN</td>\n",
              "      <td>NaN</td>\n",
              "      <td>NaN</td>\n",
              "      <td>Alappuzha</td>\n",
              "      <td>Alappuzha</td>\n",
              "      <td>Kerala</td>\n",
              "      <td>KL</td>\n",
              "      <td>Recovered</td>\n",
              "      <td>Travelled from Wuhan</td>\n",
              "      <td>NaN</td>\n",
              "      <td>India</td>\n",
              "      <td>Imported</td>\n",
              "      <td>14/02/2020</td>\n",
              "      <td>https://www.indiatoday.in/india/story/kerala-r...</td>\n",
              "      <td>https://weather.com/en-IN/india/news/news/2020...</td>\n",
              "      <td>NaN</td>\n",
              "      <td>Student from Wuhan</td>\n",
              "      <td>1.0</td>\n",
              "      <td>NaN</td>\n",
              "    </tr>\n",
              "    <tr>\n",
              "      <th>2</th>\n",
              "      <td>3.0</td>\n",
              "      <td>KL-KS-P1</td>\n",
              "      <td>03/02/2020</td>\n",
              "      <td>NaN</td>\n",
              "      <td>NaN</td>\n",
              "      <td>NaN</td>\n",
              "      <td>Kasaragod</td>\n",
              "      <td>Kasaragod</td>\n",
              "      <td>Kerala</td>\n",
              "      <td>KL</td>\n",
              "      <td>Recovered</td>\n",
              "      <td>Travelled from Wuhan</td>\n",
              "      <td>NaN</td>\n",
              "      <td>India</td>\n",
              "      <td>Imported</td>\n",
              "      <td>14/02/2020</td>\n",
              "      <td>https://www.indiatoday.in/india/story/kerala-n...</td>\n",
              "      <td>https://twitter.com/ANI/status/122422148580539...</td>\n",
              "      <td>https://weather.com/en-IN/india/news/news/2020...</td>\n",
              "      <td>Student from Wuhan</td>\n",
              "      <td>1.0</td>\n",
              "      <td>NaN</td>\n",
              "    </tr>\n",
              "    <tr>\n",
              "      <th>3</th>\n",
              "      <td>4.0</td>\n",
              "      <td>DL-P1</td>\n",
              "      <td>02/03/2020</td>\n",
              "      <td>NaN</td>\n",
              "      <td>45</td>\n",
              "      <td>M</td>\n",
              "      <td>East Delhi (Mayur Vihar)</td>\n",
              "      <td>East Delhi</td>\n",
              "      <td>Delhi</td>\n",
              "      <td>DL</td>\n",
              "      <td>Recovered</td>\n",
              "      <td>Travelled from Austria, Italy</td>\n",
              "      <td>NaN</td>\n",
              "      <td>India</td>\n",
              "      <td>Imported</td>\n",
              "      <td>15/03/2020</td>\n",
              "      <td>https://www.indiatoday.in/india/story/not-a-ja...</td>\n",
              "      <td>https://economictimes.indiatimes.com/news/poli...</td>\n",
              "      <td>NaN</td>\n",
              "      <td>Travel history to Italy and Austria</td>\n",
              "      <td>1.0</td>\n",
              "      <td>NaN</td>\n",
              "    </tr>\n",
              "    <tr>\n",
              "      <th>4</th>\n",
              "      <td>5.0</td>\n",
              "      <td>TS-P1</td>\n",
              "      <td>02/03/2020</td>\n",
              "      <td>NaN</td>\n",
              "      <td>24</td>\n",
              "      <td>M</td>\n",
              "      <td>Hyderabad</td>\n",
              "      <td>Hyderabad</td>\n",
              "      <td>Telangana</td>\n",
              "      <td>TG</td>\n",
              "      <td>Recovered</td>\n",
              "      <td>Travelled from Dubai to Bangalore on 20th Feb,...</td>\n",
              "      <td>NaN</td>\n",
              "      <td>India</td>\n",
              "      <td>Imported</td>\n",
              "      <td>02/03/2020</td>\n",
              "      <td>https://www.deccanherald.com/national/south/qu...</td>\n",
              "      <td>https://www.indiatoday.in/india/story/coronavi...</td>\n",
              "      <td>https://www.thehindu.com/news/national/coronav...</td>\n",
              "      <td>Travel history to Dubai, Singapore contact</td>\n",
              "      <td>1.0</td>\n",
              "      <td>NaN</td>\n",
              "    </tr>\n",
              "  </tbody>\n",
              "</table>\n",
              "</div>"
            ],
            "text/plain": [
              "   Patient Number State Patient Number  ... Num Cases  Entry_ID\n",
              "0             1.0             KL-TS-P1  ...       1.0       NaN\n",
              "1             2.0             KL-AL-P1  ...       1.0       NaN\n",
              "2             3.0             KL-KS-P1  ...       1.0       NaN\n",
              "3             4.0                DL-P1  ...       1.0       NaN\n",
              "4             5.0                TS-P1  ...       1.0       NaN\n",
              "\n",
              "[5 rows x 22 columns]"
            ]
          },
          "metadata": {
            "tags": []
          },
          "execution_count": 1
        }
      ]
    },
    {
      "cell_type": "code",
      "metadata": {
        "id": "gIrumJ7m-m-r",
        "colab_type": "code",
        "colab": {
          "base_uri": "https://localhost:8080/",
          "height": 510
        },
        "outputId": "4fdc990e-3d3d-4355-9b5a-e138230a688f"
      },
      "source": [
        "# Lets just quickly first go thorugh quick basic things about this dataset\n",
        "patient_data.info()"
      ],
      "execution_count": 2,
      "outputs": [
        {
          "output_type": "stream",
          "text": [
            "<class 'pandas.core.frame.DataFrame'>\n",
            "RangeIndex: 77535 entries, 0 to 77534\n",
            "Data columns (total 22 columns):\n",
            " #   Column                                     Non-Null Count  Dtype  \n",
            "---  ------                                     --------------  -----  \n",
            " 0   Patient Number                             77044 non-null  float64\n",
            " 1   State Patient Number                       15980 non-null  object \n",
            " 2   Date Announced                             77535 non-null  object \n",
            " 3   Estimated Onset Date                       0 non-null      float64\n",
            " 4   Age Bracket                                31277 non-null  object \n",
            " 5   Gender                                     33934 non-null  object \n",
            " 6   Detected City                              5306 non-null   object \n",
            " 7   Detected District                          70022 non-null  object \n",
            " 8   Detected State                             77527 non-null  object \n",
            " 9   State code                                 77527 non-null  object \n",
            " 10  Current Status                             77533 non-null  object \n",
            " 11  Notes                                      34042 non-null  object \n",
            " 12  Contracted from which Patient (Suspected)  1922 non-null   object \n",
            " 13  Nationality                                1554 non-null   object \n",
            " 14  Type of transmission                       2990 non-null   object \n",
            " 15  Status Change Date                         27780 non-null  object \n",
            " 16  Source_1                                   76078 non-null  object \n",
            " 17  Source_2                                   4465 non-null   object \n",
            " 18  Source_3                                   494 non-null    object \n",
            " 19  Backup Notes                               361 non-null    object \n",
            " 20  Num Cases                                  77532 non-null  float64\n",
            " 21  Entry_ID                                   49349 non-null  float64\n",
            "dtypes: float64(4), object(18)\n",
            "memory usage: 13.0+ MB\n"
          ],
          "name": "stdout"
        }
      ]
    },
    {
      "cell_type": "code",
      "metadata": {
        "id": "ajmnDfXI-7bI",
        "colab_type": "code",
        "colab": {
          "base_uri": "https://localhost:8080/",
          "height": 34
        },
        "outputId": "07e6721d-fda7-44a6-ab55-75c13b0e551b"
      },
      "source": [
        "print(' The given data set has almost records of ',patient_data.shape[0],' patients all over India')"
      ],
      "execution_count": 5,
      "outputs": [
        {
          "output_type": "stream",
          "text": [
            " The given data set has almost records of  77535  patients all over India\n"
          ],
          "name": "stdout"
        }
      ]
    },
    {
      "cell_type": "code",
      "metadata": {
        "id": "OKaMrUPb--96",
        "colab_type": "code",
        "colab": {
          "base_uri": "https://localhost:8080/",
          "height": 34
        },
        "outputId": "4dee1a61-d54c-48a2-a913-648910e49d38"
      },
      "source": [
        "patient_data.size"
      ],
      "execution_count": 6,
      "outputs": [
        {
          "output_type": "execute_result",
          "data": {
            "text/plain": [
              "1705770"
            ]
          },
          "metadata": {
            "tags": []
          },
          "execution_count": 6
        }
      ]
    },
    {
      "cell_type": "code",
      "metadata": {
        "id": "p7XynEqE_TlL",
        "colab_type": "code",
        "colab": {
          "base_uri": "https://localhost:8080/",
          "height": 408
        },
        "outputId": "26eed2f9-a570-4bfc-e888-601a9b0fb6ed"
      },
      "source": [
        "#Lets find all the NAN/ Null values in this dataset\n",
        "patient_data.isnull().sum()"
      ],
      "execution_count": 12,
      "outputs": [
        {
          "output_type": "execute_result",
          "data": {
            "text/plain": [
              "Patient Number                                 491\n",
              "State Patient Number                         61555\n",
              "Date Announced                                   0\n",
              "Estimated Onset Date                         77535\n",
              "Age Bracket                                  46258\n",
              "Gender                                       43601\n",
              "Detected City                                72229\n",
              "Detected District                             7513\n",
              "Detected State                                   8\n",
              "State code                                       8\n",
              "Current Status                                   2\n",
              "Notes                                        43493\n",
              "Contracted from which Patient (Suspected)    75613\n",
              "Nationality                                  75981\n",
              "Type of transmission                         74545\n",
              "Status Change Date                           49755\n",
              "Source_1                                      1457\n",
              "Source_2                                     73070\n",
              "Source_3                                     77041\n",
              "Backup Notes                                 77174\n",
              "Num Cases                                        3\n",
              "Entry_ID                                     28186\n",
              "dtype: int64"
            ]
          },
          "metadata": {
            "tags": []
          },
          "execution_count": 12
        }
      ]
    },
    {
      "cell_type": "code",
      "metadata": {
        "id": "-V_zyyPE_j6p",
        "colab_type": "code",
        "colab": {
          "base_uri": "https://localhost:8080/",
          "height": 51
        },
        "outputId": "3d59766c-4cb8-42c9-ee98-97518b6b9464"
      },
      "source": [
        "print(' The total number of male patients affected all over country are ',patient_data.Gender.value_counts()[0])\n",
        "print(' The total number of female patients affected all over country are ',patient_data.Gender.value_counts()[1])"
      ],
      "execution_count": 16,
      "outputs": [
        {
          "output_type": "stream",
          "text": [
            " The total number of male patients affected all over country are  22433\n",
            " The total number of female patients affected all over country are  11496\n"
          ],
          "name": "stdout"
        }
      ]
    },
    {
      "cell_type": "code",
      "metadata": {
        "id": "6Pjhzcs0AWoA",
        "colab_type": "code",
        "colab": {}
      },
      "source": [
        "patient_data=patient_data.fillna(patient_data.mean())"
      ],
      "execution_count": 20,
      "outputs": []
    },
    {
      "cell_type": "code",
      "metadata": {
        "id": "aeqlYvo9D9tU",
        "colab_type": "code",
        "colab": {
          "base_uri": "https://localhost:8080/",
          "height": 408
        },
        "outputId": "dc6b1039-371e-4ae4-f42f-396b4d715a26"
      },
      "source": [
        "patient_data.isnull().sum()"
      ],
      "execution_count": 21,
      "outputs": [
        {
          "output_type": "execute_result",
          "data": {
            "text/plain": [
              "Patient Number                                   0\n",
              "State Patient Number                         61555\n",
              "Date Announced                                   0\n",
              "Estimated Onset Date                         77535\n",
              "Age Bracket                                  46258\n",
              "Gender                                       43601\n",
              "Detected City                                72229\n",
              "Detected District                             7513\n",
              "Detected State                                   8\n",
              "State code                                       8\n",
              "Current Status                                   2\n",
              "Notes                                        43493\n",
              "Contracted from which Patient (Suspected)    75613\n",
              "Nationality                                  75981\n",
              "Type of transmission                         74545\n",
              "Status Change Date                           49755\n",
              "Source_1                                      1457\n",
              "Source_2                                     73070\n",
              "Source_3                                     77041\n",
              "Backup Notes                                 77174\n",
              "Num Cases                                        0\n",
              "Entry_ID                                         0\n",
              "dtype: int64"
            ]
          },
          "metadata": {
            "tags": []
          },
          "execution_count": 21
        }
      ]
    },
    {
      "cell_type": "code",
      "metadata": {
        "id": "5QG58hiWBh_5",
        "colab_type": "code",
        "colab": {}
      },
      "source": [
        "patient_data['Detected State'].fillna('No State',inplace=True)"
      ],
      "execution_count": 29,
      "outputs": []
    },
    {
      "cell_type": "code",
      "metadata": {
        "id": "SZQjsB20FvYB",
        "colab_type": "code",
        "colab": {
          "base_uri": "https://localhost:8080/",
          "height": 51
        },
        "outputId": "7a4559ee-224b-4a5e-bce8-0214fb0e39f3"
      },
      "source": [
        "print('Lets find out the statistic State-Wise of detected COVID-19 patients ')\n",
        "print(' Totalnumber of states affected in India are ',len(patient_data.groupby('Detected State')))"
      ],
      "execution_count": 42,
      "outputs": [
        {
          "output_type": "stream",
          "text": [
            "Lets find out the statistic State-Wise of detected COVID-19 patients \n",
            " Totalnumber of states affected in India are  37\n"
          ],
          "name": "stdout"
        }
      ]
    },
    {
      "cell_type": "markdown",
      "metadata": {
        "id": "q4qnQcGTK0Mk",
        "colab_type": "text"
      },
      "source": [
        "## **TOP 5 AFFECTED STATE IN INDIA ARE :**\n",
        "A group by is a process that tyipcally involves splitting the data into groups based on some criteria, applying a function to each group independently, and then combining the outputted results.\n",
        "\n",
        "We will use the group by feature of python to help us find this statistical data"
      ]
    },
    {
      "cell_type": "code",
      "metadata": {
        "id": "LgruWq-SKsCm",
        "colab_type": "code",
        "colab": {
          "base_uri": "https://localhost:8080/",
          "height": 153
        },
        "outputId": "2b1c8b91-7d66-453b-e02d-5ee26571e075"
      },
      "source": [
        "print('Top five affected states are as below ')\n",
        "state=patient_data.groupby('Detected State')\n",
        "state.size().nlargest(5)"
      ],
      "execution_count": 45,
      "outputs": [
        {
          "output_type": "stream",
          "text": [
            "Top five affected states are as below \n"
          ],
          "name": "stdout"
        },
        {
          "output_type": "execute_result",
          "data": {
            "text/plain": [
              "Detected State\n",
              "Tamil Nadu     23322\n",
              "Maharashtra    10166\n",
              "Karnataka       6242\n",
              "Gujarat         4993\n",
              "Bihar           4939\n",
              "dtype: int64"
            ]
          },
          "metadata": {
            "tags": []
          },
          "execution_count": 45
        }
      ]
    },
    {
      "cell_type": "code",
      "metadata": {
        "id": "ufq03O_rK9qv",
        "colab_type": "code",
        "colab": {
          "base_uri": "https://localhost:8080/",
          "height": 136
        },
        "outputId": "c8666eca-ad76-4c3c-c95b-7bda4b78426a"
      },
      "source": [
        "print(' Top five affected city are ')\n",
        "patient_data['Detected District'].value_counts().head()"
      ],
      "execution_count": 47,
      "outputs": [
        {
          "output_type": "stream",
          "text": [
            " Top five affected city are \n"
          ],
          "name": "stdout"
        },
        {
          "output_type": "execute_result",
          "data": {
            "text/plain": [
              "Chennai         14944\n",
              "Mumbai           3269\n",
              "Ahmedabad        2661\n",
              "Indore           1291\n",
              "Chengalpattu     1201\n",
              "Name: Detected District, dtype: int64"
            ]
          },
          "metadata": {
            "tags": []
          },
          "execution_count": 47
        }
      ]
    },
    {
      "cell_type": "markdown",
      "metadata": {
        "id": "7bCYwXYUQ0MP",
        "colab_type": "text"
      },
      "source": [
        "**Lets find out the statistical count of how COVID-19 was transmitted.**"
      ]
    },
    {
      "cell_type": "code",
      "metadata": {
        "id": "aNWBwAXyRRNq",
        "colab_type": "code",
        "colab": {
          "base_uri": "https://localhost:8080/",
          "height": 34
        },
        "outputId": "68f8a394-81ca-483d-9238-4802c3ced0ef"
      },
      "source": [
        "print('The various modes by which the COVID tarnsmitted are ',patient_data['Type of transmission'].unique())"
      ],
      "execution_count": 54,
      "outputs": [
        {
          "output_type": "stream",
          "text": [
            "The various modes by which the COVID tarnsmitted are  ['Imported' 'Local' 'TBD' nan 'Imported ' 'Unknown']\n"
          ],
          "name": "stdout"
        }
      ]
    },
    {
      "cell_type": "code",
      "metadata": {
        "id": "vLv8CiBoReBa",
        "colab_type": "code",
        "colab": {
          "base_uri": "https://localhost:8080/",
          "height": 34
        },
        "outputId": "c2a6843c-4771-421a-910a-69780ccfb2cf"
      },
      "source": [
        "print(' The total number of patients affected by Local transmission are ',patient_data['Type of transmission'].value_counts()[0])\n"
      ],
      "execution_count": 56,
      "outputs": [
        {
          "output_type": "stream",
          "text": [
            " The total number of patients affected by Local transmission are  1720\n"
          ],
          "name": "stdout"
        }
      ]
    },
    {
      "cell_type": "code",
      "metadata": {
        "id": "09QPwyYUSa46",
        "colab_type": "code",
        "colab": {
          "base_uri": "https://localhost:8080/",
          "height": 391
        },
        "outputId": "f6e144bb-200b-4cdc-faa7-bf88c0b0f0a4"
      },
      "source": [
        "patient_data.groupby('Detected State')['Gender'].value_counts().head(20)"
      ],
      "execution_count": 81,
      "outputs": [
        {
          "output_type": "execute_result",
          "data": {
            "text/plain": [
              "Detected State                            Gender\n",
              "Andaman and Nicobar Islands               M            3\n",
              "                                          F            2\n",
              "Andhra Pradesh                            M          307\n",
              "                                          F          110\n",
              "Arunachal Pradesh                         M            1\n",
              "Assam                                     M            5\n",
              "                                          F            1\n",
              "Bihar                                     M         3723\n",
              "                                          F          564\n",
              "Chandigarh                                M          119\n",
              "                                          F          106\n",
              "Chhattisgarh                              M           10\n",
              "                                          F            7\n",
              "Dadra and Nagar Haveli and Daman and Diu  F            2\n",
              "Delhi                                     M           37\n",
              "                                          F            9\n",
              "Goa                                       M            6\n",
              "Gujarat                                   M         1701\n",
              "                                          F          961\n",
              "Haryana                                   F           11\n",
              "Name: Gender, dtype: int64"
            ]
          },
          "metadata": {
            "tags": []
          },
          "execution_count": 81
        }
      ]
    },
    {
      "cell_type": "markdown",
      "metadata": {
        "id": "_Uxuq2uqYEcL",
        "colab_type": "text"
      },
      "source": [
        "**TOP 5 AFFECTED AGE GROUP IN INDIA ARE**"
      ]
    },
    {
      "cell_type": "code",
      "metadata": {
        "id": "qcdKRf2gYRlz",
        "colab_type": "code",
        "colab": {
          "base_uri": "https://localhost:8080/",
          "height": 136
        },
        "outputId": "9fee1383-c873-432b-f1de-e5eee54746e4"
      },
      "source": [
        "print('As you can see below the maximum top 5 affected age group are ')\n",
        "patient_data['Age Bracket'].value_counts().head()"
      ],
      "execution_count": 86,
      "outputs": [
        {
          "output_type": "stream",
          "text": [
            "As you can see below the maximum top 5 affected age group are \n"
          ],
          "name": "stdout"
        },
        {
          "output_type": "execute_result",
          "data": {
            "text/plain": [
              "30.0    962\n",
              "25.0    854\n",
              "40.0    796\n",
              "35.0    796\n",
              "32.0    737\n",
              "Name: Age Bracket, dtype: int64"
            ]
          },
          "metadata": {
            "tags": []
          },
          "execution_count": 86
        }
      ]
    },
    {
      "cell_type": "markdown",
      "metadata": {
        "id": "OHz2co7nhRjk",
        "colab_type": "text"
      },
      "source": [
        "The total number of people recovered and still being hospitalized "
      ]
    },
    {
      "cell_type": "code",
      "metadata": {
        "id": "mk4wCdPHhmMQ",
        "colab_type": "code",
        "colab": {
          "base_uri": "https://localhost:8080/",
          "height": 119
        },
        "outputId": "019b5b90-5d6f-4344-de0c-48fd24859d9e"
      },
      "source": [
        "patient_data['Current Status'].value_counts()"
      ],
      "execution_count": 87,
      "outputs": [
        {
          "output_type": "execute_result",
          "data": {
            "text/plain": [
              "Hospitalized      67766\n",
              "Recovered          7767\n",
              "Deceased           1979\n",
              "Migrated_Other       17\n",
              "Migrated              4\n",
              "Name: Current Status, dtype: int64"
            ]
          },
          "metadata": {
            "tags": []
          },
          "execution_count": 87
        }
      ]
    },
    {
      "cell_type": "code",
      "metadata": {
        "id": "UXV0EkNVh0qX",
        "colab_type": "code",
        "colab": {
          "base_uri": "https://localhost:8080/",
          "height": 34
        },
        "outputId": "befc42ca-29d9-481b-b28c-a9e98eb54043"
      },
      "source": [
        "print(' The total number of people recovered are ',patient_data['Current Status'].value_counts()[1])"
      ],
      "execution_count": 88,
      "outputs": [
        {
          "output_type": "stream",
          "text": [
            " The total number of people recovered are  7767\n"
          ],
          "name": "stdout"
        }
      ]
    },
    {
      "cell_type": "code",
      "metadata": {
        "id": "VPKJR7WSiAq_",
        "colab_type": "code",
        "colab": {
          "base_uri": "https://localhost:8080/",
          "height": 238
        },
        "outputId": "945c2d64-abe8-47df-ddd3-f0ed5af273cd"
      },
      "source": [
        "print('TOP 10 cities affected in INDIA are ')\n",
        "patient_data.groupby('Detected State')['Detected City'].value_counts().nlargest(10)"
      ],
      "execution_count": 89,
      "outputs": [
        {
          "output_type": "stream",
          "text": [
            "TOP 10 cities affected in INDIA are \n"
          ],
          "name": "stdout"
        },
        {
          "output_type": "execute_result",
          "data": {
            "text/plain": [
              "Detected State  Detected City   \n",
              "Maharashtra     MCGM                108\n",
              "                Thane               108\n",
              "                Navi Mumbai          71\n",
              "                PMC                  69\n",
              "Chandigarh      Sector 26            68\n",
              "Maharashtra     Vasai-Virar          61\n",
              "Bihar           Sasaram              58\n",
              "Maharashtra     Mira-Bhayandar       53\n",
              "                Nagpur               51\n",
              "                Kalyan-Dombivali     50\n",
              "Name: Detected City, dtype: int64"
            ]
          },
          "metadata": {
            "tags": []
          },
          "execution_count": 89
        }
      ]
    },
    {
      "cell_type": "code",
      "metadata": {
        "id": "vQDRdwKu6KFX",
        "colab_type": "code",
        "colab": {}
      },
      "source": [
        ""
      ],
      "execution_count": null,
      "outputs": []
    }
  ]
}